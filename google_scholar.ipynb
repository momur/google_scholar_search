{
 "cells": [
  {
   "cell_type": "code",
   "execution_count": 1,
   "id": "6cfe8d91-6179-4c10-bb72-d908a047534b",
   "metadata": {
    "collapsed": true,
    "jupyter": {
     "outputs_hidden": true
    },
    "tags": []
   },
   "outputs": [
    {
     "name": "stderr",
     "output_type": "stream",
     "text": [
      "Warning message:\n",
      "“package ‘rvest’ was built under R version 4.1.2”\n",
      "\n",
      "Attaching package: ‘dplyr’\n",
      "\n",
      "\n",
      "The following objects are masked from ‘package:stats’:\n",
      "\n",
      "    filter, lag\n",
      "\n",
      "\n",
      "The following objects are masked from ‘package:base’:\n",
      "\n",
      "    intersect, setdiff, setequal, union\n",
      "\n",
      "\n",
      "Warning message:\n",
      "“package ‘tidyr’ was built under R version 4.1.2”\n"
     ]
    }
   ],
   "source": [
    "library(rvest)\n",
    "library(stringr)\n",
    "library(dplyr)\n",
    "library(tidyr)\n",
    "library(purrr)"
   ]
  },
  {
   "cell_type": "code",
   "execution_count": 20,
   "id": "5033274a-4cfa-4634-94a4-39603a71692b",
   "metadata": {},
   "outputs": [],
   "source": [
    "google_scholar_count <- function(query) {\n",
    "  encoded_query <- URLencode(query)\n",
    "  url <- paste0(\"https://scholar.google.com/scholar?q=\", encoded_query)\n",
    "  user_agent <- \"Mozilla/5.0 (Windows NT 10.0; Win64; x64) AppleWebKit/537.36 (KHTML, like Gecko) Chrome/113.0.0.0 Safari/537.36\"\n",
    "  \n",
    "  tryCatch({\n",
    "    page <- read_html(url, user_agent = user_agent)\n",
    "    stats <- page %>% \n",
    "      html_nodes(\"#gs_ab_md\") %>% \n",
    "      html_text()\n",
    "    \n",
    "    count <- str_extract(stats, \"About (\\\\d+(?:,\\\\d+)*) results\") %>%\n",
    "      str_replace(\"About \", \"\") %>%\n",
    "      str_replace(\" results\", \"\") %>%\n",
    "      str_replace_all(\",\", \"\") %>%\n",
    "      as.numeric()\n",
    "    \n",
    "    return(count)\n",
    "  }, error = function(e) {\n",
    "    message(\"Error occurred: \", e$message)\n",
    "    return(NA)\n",
    "  })\n",
    "}\n",
    "search_genes <- function(gene_list, additional_terms) {\n",
    "  results <- map_dfr(gene_list, function(gene) {\n",
    "    query <- paste0('\"', gene, '\" ', additional_terms)\n",
    "    count <- google_scholar_count(query)\n",
    "    message(paste(\"Processed\", gene, \":\", count, \"results\"))\n",
    "    Sys.sleep(900)  # Delay to avoid overwhelming the server\n",
    "    tibble(Gene = gene, Count = count)\n",
    "  })\n",
    "  return(results)\n",
    "}\n"
   ]
  },
  {
   "cell_type": "code",
   "execution_count": 22,
   "id": "e6390417-b553-4e07-b3b9-8982b28d8411",
   "metadata": {},
   "outputs": [
    {
     "name": "stderr",
     "output_type": "stream",
     "text": [
      "Processed WNT5A : 828 results\n",
      "\n",
      "Processed INS : 8830 results\n",
      "\n"
     ]
    }
   ],
   "source": [
    "# List of genes\n",
    "genes <- c('WNT5A', 'INS')  # Add more genes as needed\n",
    "\n",
    "# Additional search terms\n",
    "additional_terms <- \"gene stem cell differentiation beta cells Pancreatic β-Cells\"\n",
    "\n",
    "# Perform the search\n",
    "results <- search_genes(genes, additional_terms)"
   ]
  },
  {
   "cell_type": "code",
   "execution_count": 10,
   "id": "78e445a1-82b5-4277-b4ee-3c7353d76cff",
   "metadata": {
    "tags": []
   },
   "outputs": [
    {
     "name": "stderr",
     "output_type": "stream",
     "text": [
      "Processed MAFA : 4170 results\n",
      "\n",
      "Processed MAFB : 1510 results\n",
      "\n",
      "Processed MAFF : 147 results\n",
      "\n",
      "Processed MAFG : 154 results\n",
      "\n"
     ]
    }
   ],
   "source": [
    "genes <- c('MAFA', 'MAFB', 'MAFF', 'MAFG')  # Add more genes as needed\n",
    "results <- search_genes(genes, additional_terms)\n"
   ]
  },
  {
   "cell_type": "code",
   "execution_count": null,
   "id": "545bf9ba-bb4a-45ea-9dfb-8bc7ab6aa223",
   "metadata": {},
   "outputs": [
    {
     "data": {
      "text/html": [
       "<table class=\"dataframe\">\n",
       "<caption>A tibble: 4 × 2</caption>\n",
       "<thead>\n",
       "\t<tr><th scope=col>Gene</th><th scope=col>Count</th></tr>\n",
       "\t<tr><th scope=col>&lt;chr&gt;</th><th scope=col>&lt;dbl&gt;</th></tr>\n",
       "</thead>\n",
       "<tbody>\n",
       "\t<tr><td>MAFA</td><td>4170</td></tr>\n",
       "\t<tr><td>MAFB</td><td>1510</td></tr>\n",
       "\t<tr><td>MAFF</td><td> 147</td></tr>\n",
       "\t<tr><td>MAFG</td><td> 154</td></tr>\n",
       "</tbody>\n",
       "</table>\n"
      ],
      "text/latex": [
       "A tibble: 4 × 2\n",
       "\\begin{tabular}{ll}\n",
       " Gene & Count\\\\\n",
       " <chr> & <dbl>\\\\\n",
       "\\hline\n",
       "\t MAFA & 4170\\\\\n",
       "\t MAFB & 1510\\\\\n",
       "\t MAFF &  147\\\\\n",
       "\t MAFG &  154\\\\\n",
       "\\end{tabular}\n"
      ],
      "text/markdown": [
       "\n",
       "A tibble: 4 × 2\n",
       "\n",
       "| Gene &lt;chr&gt; | Count &lt;dbl&gt; |\n",
       "|---|---|\n",
       "| MAFA | 4170 |\n",
       "| MAFB | 1510 |\n",
       "| MAFF |  147 |\n",
       "| MAFG |  154 |\n",
       "\n"
      ],
      "text/plain": [
       "  Gene Count\n",
       "1 MAFA 4170 \n",
       "2 MAFB 1510 \n",
       "3 MAFF  147 \n",
       "4 MAFG  154 "
      ]
     },
     "metadata": {},
     "output_type": "display_data"
    }
   ],
   "source": [
    "results"
   ]
  },
  {
   "cell_type": "code",
   "execution_count": null,
   "id": "e1378c0b-4e21-4227-920b-69914b3247a6",
   "metadata": {},
   "outputs": [],
   "source": []
  },
  {
   "cell_type": "code",
   "execution_count": null,
   "id": "f1ec11ff-7735-4479-948d-85ec76d026d2",
   "metadata": {},
   "outputs": [],
   "source": []
  }
 ],
 "metadata": {
  "kernelspec": {
   "display_name": "R",
   "language": "R",
   "name": "ir"
  },
  "language_info": {
   "codemirror_mode": "r",
   "file_extension": ".r",
   "mimetype": "text/x-r-source",
   "name": "R",
   "pygments_lexer": "r",
   "version": "4.1.1"
  }
 },
 "nbformat": 4,
 "nbformat_minor": 5
}
